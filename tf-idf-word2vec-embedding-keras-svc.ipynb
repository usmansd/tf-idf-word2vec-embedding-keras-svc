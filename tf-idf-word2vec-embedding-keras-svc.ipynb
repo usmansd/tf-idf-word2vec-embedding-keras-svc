{
 "cells": [
  {
   "cell_type": "markdown",
   "metadata": {
    "papermill": {
     "duration": 0.023264,
     "end_time": "2020-09-17T10:10:18.977372",
     "exception": false,
     "start_time": "2020-09-17T10:10:18.954108",
     "status": "completed"
    },
    "tags": []
   },
   "source": [
    "# Stock market prediction from daily news\n"
   ]
  },
  {
   "cell_type": "code",
   "execution_count": 1,
   "metadata": {
    "_cell_guid": "b1076dfc-b9ad-4769-8c92-a6c4dae69d19",
    "_uuid": "8f2839f25d086af736a60e9eeb907d3b93b6e0e5",
    "execution": {
     "iopub.execute_input": "2020-09-17T10:10:19.033165Z",
     "iopub.status.busy": "2020-09-17T10:10:19.032342Z",
     "iopub.status.idle": "2020-09-17T10:10:26.747341Z",
     "shell.execute_reply": "2020-09-17T10:10:26.746361Z"
    },
    "papermill": {
     "duration": 7.748487,
     "end_time": "2020-09-17T10:10:26.747509",
     "exception": false,
     "start_time": "2020-09-17T10:10:18.999022",
     "status": "completed"
    },
    "tags": []
   },
   "outputs": [
    {
     "name": "stdout",
     "output_type": "stream",
     "text": [
      "/kaggle/input/stocknews/RedditNews.csv\n",
      "/kaggle/input/stocknews/upload_DJIA_table.csv\n",
      "/kaggle/input/stocknews/Combined_News_DJIA.csv\n"
     ]
    }
   ],
   "source": [
    "import numpy as np # linear algebra\n",
    "import pandas as pd # data processing, CSV file I/O (e.g. pd.read_csv)\n",
    "\n",
    "from sklearn.feature_extraction.text import TfidfVectorizer\n",
    "from sklearn.feature_extraction.text import CountVectorizer\n",
    "\n",
    "from sklearn.linear_model import LogisticRegression\n",
    "from sklearn.svm import LinearSVC\n",
    "import nltk\n",
    "\n",
    "from nltk import word_tokenize\n",
    "from nltk.stem import WordNetLemmatizer\n",
    "from sklearn.svm import SVC, LinearSVC\n",
    "from sklearn import tree\n",
    "from sklearn.mixture import GaussianMixture\n",
    "from sklearn.decomposition import PCA\n",
    "\n",
    "from matplotlib import pyplot as plt\n",
    "\n",
    "from sklearn.metrics import classification_report\n",
    "from sklearn.metrics import accuracy_score \n",
    "from sklearn.metrics import confusion_matrix\n",
    "\n",
    "from keras.models import Sequential\n",
    "\n",
    "import os\n",
    "for dirname, _, filenames in os.walk('/kaggle/input'):\n",
    "    for filename in filenames:\n",
    "        print(os.path.join(dirname, filename))"
   ]
  },
  {
   "cell_type": "markdown",
   "metadata": {
    "papermill": {
     "duration": 0.021771,
     "end_time": "2020-09-17T10:10:26.792639",
     "exception": false,
     "start_time": "2020-09-17T10:10:26.770868",
     "status": "completed"
    },
    "tags": []
   },
   "source": [
    "# Inspect and prepairing Dataset\n",
    "\n",
    "Load the dataset and have a first impression of the data.\n",
    "\n",
    "The file consists of the Top25 news headline per day and a label with only two values: \n",
    "- \"1\" when DJIA Adj Close value rose or stayed the same\n",
    "- \"0\" when DJIA Adj Close value decreased"
   ]
  },
  {
   "cell_type": "code",
   "execution_count": 2,
   "metadata": {
    "_cell_guid": "79c7e3d0-c299-4dcb-8224-4455121ee9b0",
    "_uuid": "d629ff2d2480ee46fbb7e2d37f6b5fab8052498a",
    "execution": {
     "iopub.execute_input": "2020-09-17T10:10:26.850886Z",
     "iopub.status.busy": "2020-09-17T10:10:26.850082Z",
     "iopub.status.idle": "2020-09-17T10:10:27.019851Z",
     "shell.execute_reply": "2020-09-17T10:10:27.020535Z"
    },
    "papermill": {
     "duration": 0.2057,
     "end_time": "2020-09-17T10:10:27.020713",
     "exception": false,
     "start_time": "2020-09-17T10:10:26.815013",
     "status": "completed"
    },
    "tags": []
   },
   "outputs": [
    {
     "data": {
      "text/html": [
       "<div>\n",
       "<style scoped>\n",
       "    .dataframe tbody tr th:only-of-type {\n",
       "        vertical-align: middle;\n",
       "    }\n",
       "\n",
       "    .dataframe tbody tr th {\n",
       "        vertical-align: top;\n",
       "    }\n",
       "\n",
       "    .dataframe thead th {\n",
       "        text-align: right;\n",
       "    }\n",
       "</style>\n",
       "<table border=\"1\" class=\"dataframe\">\n",
       "  <thead>\n",
       "    <tr style=\"text-align: right;\">\n",
       "      <th></th>\n",
       "      <th>Date</th>\n",
       "      <th>Label</th>\n",
       "      <th>Top1</th>\n",
       "      <th>Top2</th>\n",
       "      <th>Top3</th>\n",
       "      <th>Top4</th>\n",
       "      <th>Top5</th>\n",
       "      <th>Top6</th>\n",
       "      <th>Top7</th>\n",
       "      <th>Top8</th>\n",
       "      <th>...</th>\n",
       "      <th>Top16</th>\n",
       "      <th>Top17</th>\n",
       "      <th>Top18</th>\n",
       "      <th>Top19</th>\n",
       "      <th>Top20</th>\n",
       "      <th>Top21</th>\n",
       "      <th>Top22</th>\n",
       "      <th>Top23</th>\n",
       "      <th>Top24</th>\n",
       "      <th>Top25</th>\n",
       "    </tr>\n",
       "  </thead>\n",
       "  <tbody>\n",
       "    <tr>\n",
       "      <th>0</th>\n",
       "      <td>2008-08-08</td>\n",
       "      <td>0</td>\n",
       "      <td>b\"Georgia 'downs two Russian warplanes' as cou...</td>\n",
       "      <td>b'BREAKING: Musharraf to be impeached.'</td>\n",
       "      <td>b'Russia Today: Columns of troops roll into So...</td>\n",
       "      <td>b'Russian tanks are moving towards the capital...</td>\n",
       "      <td>b\"Afghan children raped with 'impunity,' U.N. ...</td>\n",
       "      <td>b'150 Russian tanks have entered South Ossetia...</td>\n",
       "      <td>b\"Breaking: Georgia invades South Ossetia, Rus...</td>\n",
       "      <td>b\"The 'enemy combatent' trials are nothing but...</td>\n",
       "      <td>...</td>\n",
       "      <td>b'Georgia Invades South Ossetia - if Russia ge...</td>\n",
       "      <td>b'Al-Qaeda Faces Islamist Backlash'</td>\n",
       "      <td>b'Condoleezza Rice: \"The US would not act to p...</td>\n",
       "      <td>b'This is a busy day:  The European Union has ...</td>\n",
       "      <td>b\"Georgia will withdraw 1,000 soldiers from Ir...</td>\n",
       "      <td>b'Why the Pentagon Thinks Attacking Iran is a ...</td>\n",
       "      <td>b'Caucasus in crisis: Georgia invades South Os...</td>\n",
       "      <td>b'Indian shoe manufactory  - And again in a se...</td>\n",
       "      <td>b'Visitors Suffering from Mental Illnesses Ban...</td>\n",
       "      <td>b\"No Help for Mexico's Kidnapping Surge\"</td>\n",
       "    </tr>\n",
       "    <tr>\n",
       "      <th>1</th>\n",
       "      <td>2008-08-11</td>\n",
       "      <td>1</td>\n",
       "      <td>b'Why wont America and Nato help us? If they w...</td>\n",
       "      <td>b'Bush puts foot down on Georgian conflict'</td>\n",
       "      <td>b\"Jewish Georgian minister: Thanks to Israeli ...</td>\n",
       "      <td>b'Georgian army flees in disarray as Russians ...</td>\n",
       "      <td>b\"Olympic opening ceremony fireworks 'faked'\"</td>\n",
       "      <td>b'What were the Mossad with fraudulent New Zea...</td>\n",
       "      <td>b'Russia angered by Israeli military sale to G...</td>\n",
       "      <td>b'An American citizen living in S.Ossetia blam...</td>\n",
       "      <td>...</td>\n",
       "      <td>b'Israel and the US behind the Georgian aggres...</td>\n",
       "      <td>b'\"Do not believe TV, neither Russian nor Geor...</td>\n",
       "      <td>b'Riots are still going on in Montreal (Canada...</td>\n",
       "      <td>b'China to overtake US as largest manufacturer'</td>\n",
       "      <td>b'War in South Ossetia [PICS]'</td>\n",
       "      <td>b'Israeli Physicians Group Condemns State Tort...</td>\n",
       "      <td>b' Russia has just beaten the United States ov...</td>\n",
       "      <td>b'Perhaps *the* question about the Georgia - R...</td>\n",
       "      <td>b'Russia is so much better at war'</td>\n",
       "      <td>b\"So this is what it's come to: trading sex fo...</td>\n",
       "    </tr>\n",
       "    <tr>\n",
       "      <th>2</th>\n",
       "      <td>2008-08-12</td>\n",
       "      <td>0</td>\n",
       "      <td>b'Remember that adorable 9-year-old who sang a...</td>\n",
       "      <td>b\"Russia 'ends Georgia operation'\"</td>\n",
       "      <td>b'\"If we had no sexual harassment we would hav...</td>\n",
       "      <td>b\"Al-Qa'eda is losing support in Iraq because ...</td>\n",
       "      <td>b'Ceasefire in Georgia: Putin Outmaneuvers the...</td>\n",
       "      <td>b'Why Microsoft and Intel tried to kill the XO...</td>\n",
       "      <td>b'Stratfor: The Russo-Georgian War and the Bal...</td>\n",
       "      <td>b\"I'm Trying to Get a Sense of This Whole Geor...</td>\n",
       "      <td>...</td>\n",
       "      <td>b'U.S. troops still in Georgia (did you know t...</td>\n",
       "      <td>b'Why Russias response to Georgia was right'</td>\n",
       "      <td>b'Gorbachev accuses U.S. of making a \"serious ...</td>\n",
       "      <td>b'Russia, Georgia, and NATO: Cold War Two'</td>\n",
       "      <td>b'Remember that adorable 62-year-old who led y...</td>\n",
       "      <td>b'War in Georgia: The Israeli connection'</td>\n",
       "      <td>b'All signs point to the US encouraging Georgi...</td>\n",
       "      <td>b'Christopher King argues that the US and NATO...</td>\n",
       "      <td>b'America: The New Mexico?'</td>\n",
       "      <td>b\"BBC NEWS | Asia-Pacific | Extinction 'by man...</td>\n",
       "    </tr>\n",
       "    <tr>\n",
       "      <th>3</th>\n",
       "      <td>2008-08-13</td>\n",
       "      <td>0</td>\n",
       "      <td>b' U.S. refuses Israel weapons to attack Iran:...</td>\n",
       "      <td>b\"When the president ordered to attack Tskhinv...</td>\n",
       "      <td>b' Israel clears troops who killed Reuters cam...</td>\n",
       "      <td>b'Britain\\'s policy of being tough on drugs is...</td>\n",
       "      <td>b'Body of 14 year old found in trunk; Latest (...</td>\n",
       "      <td>b'China has moved 10 *million* quake survivors...</td>\n",
       "      <td>b\"Bush announces Operation Get All Up In Russi...</td>\n",
       "      <td>b'Russian forces sink Georgian ships '</td>\n",
       "      <td>...</td>\n",
       "      <td>b'Elephants extinct by 2020?'</td>\n",
       "      <td>b'US humanitarian missions soon in Georgia - i...</td>\n",
       "      <td>b\"Georgia's DDOS came from US sources\"</td>\n",
       "      <td>b'Russian convoy heads into Georgia, violating...</td>\n",
       "      <td>b'Israeli defence minister: US against strike ...</td>\n",
       "      <td>b'Gorbachev: We Had No Choice'</td>\n",
       "      <td>b'Witness: Russian forces head towards Tbilisi...</td>\n",
       "      <td>b' Quarter of Russians blame U.S. for conflict...</td>\n",
       "      <td>b'Georgian president  says US military will ta...</td>\n",
       "      <td>b'2006: Nobel laureate Aleksander Solzhenitsyn...</td>\n",
       "    </tr>\n",
       "    <tr>\n",
       "      <th>4</th>\n",
       "      <td>2008-08-14</td>\n",
       "      <td>1</td>\n",
       "      <td>b'All the experts admit that we should legalis...</td>\n",
       "      <td>b'War in South Osetia - 89 pictures made by a ...</td>\n",
       "      <td>b'Swedish wrestler Ara Abrahamian throws away ...</td>\n",
       "      <td>b'Russia exaggerated the death toll in South O...</td>\n",
       "      <td>b'Missile That Killed 9 Inside Pakistan May Ha...</td>\n",
       "      <td>b\"Rushdie Condemns Random House's Refusal to P...</td>\n",
       "      <td>b'Poland and US agree to missle defense deal. ...</td>\n",
       "      <td>b'Will the Russians conquer Tblisi? Bet on it,...</td>\n",
       "      <td>...</td>\n",
       "      <td>b'Bank analyst forecast Georgian crisis 2 days...</td>\n",
       "      <td>b\"Georgia confict could set back Russia's US r...</td>\n",
       "      <td>b'War in the Caucasus is as much the product o...</td>\n",
       "      <td>b'\"Non-media\" photos of South Ossetia/Georgia ...</td>\n",
       "      <td>b'Georgian TV reporter shot by Russian sniper ...</td>\n",
       "      <td>b'Saudi Arabia: Mother moves to block child ma...</td>\n",
       "      <td>b'Taliban wages war on humanitarian aid workers'</td>\n",
       "      <td>b'Russia: World  \"can forget about\" Georgia\\'s...</td>\n",
       "      <td>b'Darfur rebels accuse Sudan of mounting major...</td>\n",
       "      <td>b'Philippines : Peace Advocate say Muslims nee...</td>\n",
       "    </tr>\n",
       "  </tbody>\n",
       "</table>\n",
       "<p>5 rows × 27 columns</p>\n",
       "</div>"
      ],
      "text/plain": [
       "         Date  Label                                               Top1  \\\n",
       "0  2008-08-08      0  b\"Georgia 'downs two Russian warplanes' as cou...   \n",
       "1  2008-08-11      1  b'Why wont America and Nato help us? If they w...   \n",
       "2  2008-08-12      0  b'Remember that adorable 9-year-old who sang a...   \n",
       "3  2008-08-13      0  b' U.S. refuses Israel weapons to attack Iran:...   \n",
       "4  2008-08-14      1  b'All the experts admit that we should legalis...   \n",
       "\n",
       "                                                Top2  \\\n",
       "0            b'BREAKING: Musharraf to be impeached.'   \n",
       "1        b'Bush puts foot down on Georgian conflict'   \n",
       "2                 b\"Russia 'ends Georgia operation'\"   \n",
       "3  b\"When the president ordered to attack Tskhinv...   \n",
       "4  b'War in South Osetia - 89 pictures made by a ...   \n",
       "\n",
       "                                                Top3  \\\n",
       "0  b'Russia Today: Columns of troops roll into So...   \n",
       "1  b\"Jewish Georgian minister: Thanks to Israeli ...   \n",
       "2  b'\"If we had no sexual harassment we would hav...   \n",
       "3  b' Israel clears troops who killed Reuters cam...   \n",
       "4  b'Swedish wrestler Ara Abrahamian throws away ...   \n",
       "\n",
       "                                                Top4  \\\n",
       "0  b'Russian tanks are moving towards the capital...   \n",
       "1  b'Georgian army flees in disarray as Russians ...   \n",
       "2  b\"Al-Qa'eda is losing support in Iraq because ...   \n",
       "3  b'Britain\\'s policy of being tough on drugs is...   \n",
       "4  b'Russia exaggerated the death toll in South O...   \n",
       "\n",
       "                                                Top5  \\\n",
       "0  b\"Afghan children raped with 'impunity,' U.N. ...   \n",
       "1      b\"Olympic opening ceremony fireworks 'faked'\"   \n",
       "2  b'Ceasefire in Georgia: Putin Outmaneuvers the...   \n",
       "3  b'Body of 14 year old found in trunk; Latest (...   \n",
       "4  b'Missile That Killed 9 Inside Pakistan May Ha...   \n",
       "\n",
       "                                                Top6  \\\n",
       "0  b'150 Russian tanks have entered South Ossetia...   \n",
       "1  b'What were the Mossad with fraudulent New Zea...   \n",
       "2  b'Why Microsoft and Intel tried to kill the XO...   \n",
       "3  b'China has moved 10 *million* quake survivors...   \n",
       "4  b\"Rushdie Condemns Random House's Refusal to P...   \n",
       "\n",
       "                                                Top7  \\\n",
       "0  b\"Breaking: Georgia invades South Ossetia, Rus...   \n",
       "1  b'Russia angered by Israeli military sale to G...   \n",
       "2  b'Stratfor: The Russo-Georgian War and the Bal...   \n",
       "3  b\"Bush announces Operation Get All Up In Russi...   \n",
       "4  b'Poland and US agree to missle defense deal. ...   \n",
       "\n",
       "                                                Top8  ...  \\\n",
       "0  b\"The 'enemy combatent' trials are nothing but...  ...   \n",
       "1  b'An American citizen living in S.Ossetia blam...  ...   \n",
       "2  b\"I'm Trying to Get a Sense of This Whole Geor...  ...   \n",
       "3             b'Russian forces sink Georgian ships '  ...   \n",
       "4  b'Will the Russians conquer Tblisi? Bet on it,...  ...   \n",
       "\n",
       "                                               Top16  \\\n",
       "0  b'Georgia Invades South Ossetia - if Russia ge...   \n",
       "1  b'Israel and the US behind the Georgian aggres...   \n",
       "2  b'U.S. troops still in Georgia (did you know t...   \n",
       "3                      b'Elephants extinct by 2020?'   \n",
       "4  b'Bank analyst forecast Georgian crisis 2 days...   \n",
       "\n",
       "                                               Top17  \\\n",
       "0                b'Al-Qaeda Faces Islamist Backlash'   \n",
       "1  b'\"Do not believe TV, neither Russian nor Geor...   \n",
       "2       b'Why Russias response to Georgia was right'   \n",
       "3  b'US humanitarian missions soon in Georgia - i...   \n",
       "4  b\"Georgia confict could set back Russia's US r...   \n",
       "\n",
       "                                               Top18  \\\n",
       "0  b'Condoleezza Rice: \"The US would not act to p...   \n",
       "1  b'Riots are still going on in Montreal (Canada...   \n",
       "2  b'Gorbachev accuses U.S. of making a \"serious ...   \n",
       "3             b\"Georgia's DDOS came from US sources\"   \n",
       "4  b'War in the Caucasus is as much the product o...   \n",
       "\n",
       "                                               Top19  \\\n",
       "0  b'This is a busy day:  The European Union has ...   \n",
       "1    b'China to overtake US as largest manufacturer'   \n",
       "2         b'Russia, Georgia, and NATO: Cold War Two'   \n",
       "3  b'Russian convoy heads into Georgia, violating...   \n",
       "4  b'\"Non-media\" photos of South Ossetia/Georgia ...   \n",
       "\n",
       "                                               Top20  \\\n",
       "0  b\"Georgia will withdraw 1,000 soldiers from Ir...   \n",
       "1                     b'War in South Ossetia [PICS]'   \n",
       "2  b'Remember that adorable 62-year-old who led y...   \n",
       "3  b'Israeli defence minister: US against strike ...   \n",
       "4  b'Georgian TV reporter shot by Russian sniper ...   \n",
       "\n",
       "                                               Top21  \\\n",
       "0  b'Why the Pentagon Thinks Attacking Iran is a ...   \n",
       "1  b'Israeli Physicians Group Condemns State Tort...   \n",
       "2          b'War in Georgia: The Israeli connection'   \n",
       "3                     b'Gorbachev: We Had No Choice'   \n",
       "4  b'Saudi Arabia: Mother moves to block child ma...   \n",
       "\n",
       "                                               Top22  \\\n",
       "0  b'Caucasus in crisis: Georgia invades South Os...   \n",
       "1  b' Russia has just beaten the United States ov...   \n",
       "2  b'All signs point to the US encouraging Georgi...   \n",
       "3  b'Witness: Russian forces head towards Tbilisi...   \n",
       "4   b'Taliban wages war on humanitarian aid workers'   \n",
       "\n",
       "                                               Top23  \\\n",
       "0  b'Indian shoe manufactory  - And again in a se...   \n",
       "1  b'Perhaps *the* question about the Georgia - R...   \n",
       "2  b'Christopher King argues that the US and NATO...   \n",
       "3  b' Quarter of Russians blame U.S. for conflict...   \n",
       "4  b'Russia: World  \"can forget about\" Georgia\\'s...   \n",
       "\n",
       "                                               Top24  \\\n",
       "0  b'Visitors Suffering from Mental Illnesses Ban...   \n",
       "1                 b'Russia is so much better at war'   \n",
       "2                        b'America: The New Mexico?'   \n",
       "3  b'Georgian president  says US military will ta...   \n",
       "4  b'Darfur rebels accuse Sudan of mounting major...   \n",
       "\n",
       "                                               Top25  \n",
       "0           b\"No Help for Mexico's Kidnapping Surge\"  \n",
       "1  b\"So this is what it's come to: trading sex fo...  \n",
       "2  b\"BBC NEWS | Asia-Pacific | Extinction 'by man...  \n",
       "3  b'2006: Nobel laureate Aleksander Solzhenitsyn...  \n",
       "4  b'Philippines : Peace Advocate say Muslims nee...  \n",
       "\n",
       "[5 rows x 27 columns]"
      ]
     },
     "execution_count": 2,
     "metadata": {},
     "output_type": "execute_result"
    }
   ],
   "source": [
    "data = pd.read_csv('/kaggle/input/stocknews/Combined_News_DJIA.csv')\n",
    "data.head()"
   ]
  },
  {
   "cell_type": "markdown",
   "metadata": {
    "papermill": {
     "duration": 0.022911,
     "end_time": "2020-09-17T10:10:27.069140",
     "exception": false,
     "start_time": "2020-09-17T10:10:27.046229",
     "status": "completed"
    },
    "tags": []
   },
   "source": [
    "First, all headlines are merged into one column"
   ]
  },
  {
   "cell_type": "code",
   "execution_count": 3,
   "metadata": {
    "execution": {
     "iopub.execute_input": "2020-09-17T10:10:27.129014Z",
     "iopub.status.busy": "2020-09-17T10:10:27.127915Z",
     "iopub.status.idle": "2020-09-17T10:10:27.631643Z",
     "shell.execute_reply": "2020-09-17T10:10:27.630873Z"
    },
    "papermill": {
     "duration": 0.53912,
     "end_time": "2020-09-17T10:10:27.631766",
     "exception": false,
     "start_time": "2020-09-17T10:10:27.092646",
     "status": "completed"
    },
    "tags": []
   },
   "outputs": [],
   "source": [
    "data['headlines'] = data[data.columns[2:]].apply(lambda x: '. '.join(x.dropna().astype(str)),axis=1)"
   ]
  },
  {
   "cell_type": "markdown",
   "metadata": {
    "papermill": {
     "duration": 0.023594,
     "end_time": "2020-09-17T10:10:27.679009",
     "exception": false,
     "start_time": "2020-09-17T10:10:27.655415",
     "status": "completed"
    },
    "tags": []
   },
   "source": [
    "Histogram of the length of the headlines"
   ]
  },
  {
   "cell_type": "code",
   "execution_count": 4,
   "metadata": {
    "execution": {
     "iopub.execute_input": "2020-09-17T10:10:27.735376Z",
     "iopub.status.busy": "2020-09-17T10:10:27.734586Z",
     "iopub.status.idle": "2020-09-17T10:10:27.984971Z",
     "shell.execute_reply": "2020-09-17T10:10:27.984160Z"
    },
    "papermill": {
     "duration": 0.282461,
     "end_time": "2020-09-17T10:10:27.985101",
     "exception": false,
     "start_time": "2020-09-17T10:10:27.702640",
     "status": "completed"
    },
    "tags": []
   },
   "outputs": [
    {
     "data": {
      "text/plain": [
       "<matplotlib.axes._subplots.AxesSubplot at 0x7f3471db3510>"
      ]
     },
     "execution_count": 4,
     "metadata": {},
     "output_type": "execute_result"
    },
    {
     "data": {
      "image/png": "[encoded data removed]",
      "text/plain": [
       "<Figure size 432x288 with 1 Axes>"
      ]
     },
     "metadata": {
      "needs_background": "light"
     },
     "output_type": "display_data"
    }
   ],
   "source": [
    "data['comment_length'] = data['headlines'].apply(lambda x : len(x))\n",
    "data['comment_length'].hist()"
   ]
  },
  {
   "cell_type": "markdown",
   "metadata": {
    "papermill": {
     "duration": 0.024599,
     "end_time": "2020-09-17T10:10:28.035197",
     "exception": false,
     "start_time": "2020-09-17T10:10:28.010598",
     "status": "completed"
    },
    "tags": []
   },
   "source": [
    "Distribution of labels"
   ]
  },
  {
   "cell_type": "code",
   "execution_count": 5,
   "metadata": {
    "execution": {
     "iopub.execute_input": "2020-09-17T10:10:28.096506Z",
     "iopub.status.busy": "2020-09-17T10:10:28.095405Z",
     "iopub.status.idle": "2020-09-17T10:10:28.271513Z",
     "shell.execute_reply": "2020-09-17T10:10:28.270763Z"
    },
    "papermill": {
     "duration": 0.211597,
     "end_time": "2020-09-17T10:10:28.271634",
     "exception": false,
     "start_time": "2020-09-17T10:10:28.060037",
     "status": "completed"
    },
    "tags": []
   },
   "outputs": [
    {
     "data": {
      "text/plain": [
       "<matplotlib.axes._subplots.AxesSubplot at 0x7f3471b80bd0>"
      ]
     },
     "execution_count": 5,
     "metadata": {},
     "output_type": "execute_result"
    },
    {
     "data": {
      "image/png": "[encoded data removed]",
      "text/plain": [
       "<Figure size 432x288 with 1 Axes>"
      ]
     },
     "metadata": {
      "needs_background": "light"
     },
     "output_type": "display_data"
    }
   ],
   "source": [
    "data['Label'].hist()"
   ]
  },
  {
   "cell_type": "markdown",
   "metadata": {
    "papermill": {
     "duration": 0.025591,
     "end_time": "2020-09-17T10:10:28.323385",
     "exception": false,
     "start_time": "2020-09-17T10:10:28.297794",
     "status": "completed"
    },
    "tags": []
   },
   "source": [
    "Split the data into train and test set. As proposed, the data until 31.12.2014 is used as training set and the following two years as test set. This is roughly a 80%/20% split."
   ]
  },
  {
   "cell_type": "code",
   "execution_count": 6,
   "metadata": {
    "execution": {
     "iopub.execute_input": "2020-09-17T10:10:28.382831Z",
     "iopub.status.busy": "2020-09-17T10:10:28.382006Z",
     "iopub.status.idle": "2020-09-17T10:10:28.391791Z",
     "shell.execute_reply": "2020-09-17T10:10:28.391119Z"
    },
    "papermill": {
     "duration": 0.042358,
     "end_time": "2020-09-17T10:10:28.391915",
     "exception": false,
     "start_time": "2020-09-17T10:10:28.349557",
     "status": "completed"
    },
    "tags": []
   },
   "outputs": [],
   "source": [
    "train = data[data['Date'] < '2015-01-01']\n",
    "test = data[data['Date'] > '2014-12-31']"
   ]
  },
  {
   "cell_type": "markdown",
   "metadata": {
    "papermill": {
     "duration": 0.025938,
     "end_time": "2020-09-17T10:10:28.444335",
     "exception": false,
     "start_time": "2020-09-17T10:10:28.418397",
     "status": "completed"
    },
    "tags": []
   },
   "source": [
    "# First attempt with Tf-idf and simple Classifier\n",
    "\n",
    "Starting from the daily headlines, the sentences were tokenized into words by using the RegexpTokenizer of nltk. Lemmatisation is also applied. The following CustomTokenizer takes over this task."
   ]
  },
  {
   "cell_type": "code",
   "execution_count": 7,
   "metadata": {
    "execution": {
     "iopub.execute_input": "2020-09-17T10:10:28.509159Z",
     "iopub.status.busy": "2020-09-17T10:10:28.508209Z",
     "iopub.status.idle": "2020-09-17T10:10:29.034896Z",
     "shell.execute_reply": "2020-09-17T10:10:29.034037Z"
    },
    "papermill": {
     "duration": 0.564399,
     "end_time": "2020-09-17T10:10:29.035024",
     "exception": false,
     "start_time": "2020-09-17T10:10:28.470625",
     "status": "completed"
    },
    "tags": []
   },
   "outputs": [],
   "source": [
    "nltk.download('stopwords', quiet=True, raise_on_error=True)\n",
    "stop_words_en = set(nltk.corpus.stopwords.words('english'))\n",
    "stop_words_en.add(\"b\")\n",
    "\n",
    "class CustomTokenizer:\n",
    "    \n",
    "    def __init__(self):\n",
    "        self.wnl = WordNetLemmatizer()\n",
    "        self.tokenizer = nltk.tokenize.RegexpTokenizer(r'\\w+')\n",
    "        \n",
    "    def _lem(self, token):\n",
    "        if (token in stop_words_en):\n",
    "            return token  # Solves error \"UserWarning: Your stop_words may be inconsistent with your preprocessing.\"\n",
    "        return self.wnl.lemmatize(token)\n",
    "    \n",
    "    def __call__(self, doc):\n",
    "        return [self._lem(t) for t in self.tokenizer.tokenize(doc)]"
   ]
  },
  {
   "cell_type": "markdown",
   "metadata": {
    "papermill": {
     "duration": 0.026211,
     "end_time": "2020-09-17T10:10:29.088081",
     "exception": false,
     "start_time": "2020-09-17T10:10:29.061870",
     "status": "completed"
    },
    "tags": []
   },
   "source": [
    "Using the CustomTokenizer, the TfidfVectorizer convert the collection of raw headlines to a matrix of TF-IDF features.\n",
    "- English stopwords are removed, all words are converted to lowercase\n",
    "- With ngram_range=(2,2) only word-tuples are considered\n",
    "- min_df and max_df ignore terms that have a document frequency strictly lower/higher than the given threshold (in percent)\n",
    "\n",
    "For fitting the vectorizer, only the training set is used. "
   ]
  },
  {
   "cell_type": "code",
   "execution_count": 8,
   "metadata": {
    "execution": {
     "iopub.execute_input": "2020-09-17T10:10:29.151541Z",
     "iopub.status.busy": "2020-09-17T10:10:29.150589Z",
     "iopub.status.idle": "2020-09-17T10:10:38.711926Z",
     "shell.execute_reply": "2020-09-17T10:10:38.711130Z"
    },
    "papermill": {
     "duration": 9.597296,
     "end_time": "2020-09-17T10:10:38.712059",
     "exception": false,
     "start_time": "2020-09-17T10:10:29.114763",
     "status": "completed"
    },
    "tags": []
   },
   "outputs": [],
   "source": [
    "vectorizer = CountVectorizer(tokenizer=CustomTokenizer(), stop_words=stop_words_en, lowercase=True, min_df=0.0075,  max_df=0.05, ngram_range=(2,2))\n",
    "\n",
    "features_train = vectorizer.fit_transform(train['headlines'].tolist())\n",
    "features_test = vectorizer.transform(test['headlines'].tolist())"
   ]
  },
  {
   "cell_type": "markdown",
   "metadata": {
    "papermill": {
     "duration": 0.026435,
     "end_time": "2020-09-17T10:10:38.765530",
     "exception": false,
     "start_time": "2020-09-17T10:10:38.739095",
     "status": "completed"
    },
    "tags": []
   },
   "source": [
    "Inspect the feature names and the TF-IDF features"
   ]
  },
  {
   "cell_type": "code",
   "execution_count": 9,
   "metadata": {
    "execution": {
     "iopub.execute_input": "2020-09-17T10:10:38.828037Z",
     "iopub.status.busy": "2020-09-17T10:10:38.827213Z",
     "iopub.status.idle": "2020-09-17T10:10:38.859762Z",
     "shell.execute_reply": "2020-09-17T10:10:38.860517Z"
    },
    "papermill": {
     "duration": 0.068582,
     "end_time": "2020-09-17T10:10:38.860713",
     "exception": false,
     "start_time": "2020-09-17T10:10:38.792131",
     "status": "completed"
    },
    "tags": []
   },
   "outputs": [
    {
     "name": "stdout",
     "output_type": "stream",
     "text": [
      "['250 000', '3 000', '3 billion', '3 day', '3 million', '3 year', '30 000', '30 million', '30 year', '300 000', '300 million', '4 000', '4 5', '4 billion', '4 day', '4 million', '4 year', '40 000', '40 year', '48 hour', '5 000', '5 billion', '5 million', '5 year', '50 000', '50 million', '50 year', '500 000', '500 year', '6 000', '6 billion', '6 million', '6 month', '60 000', '60 year', '7 billion', '7 year', '70 000', '70 percent', '8 000', '8 year', '9 11', '9 year', 'abc news', 'abuse scandal', 'according new', 'according report', 'accuses u', 'acid attack', 'across country']\n"
     ]
    },
    {
     "data": {
      "text/html": [
       "<div>\n",
       "<style scoped>\n",
       "    .dataframe tbody tr th:only-of-type {\n",
       "        vertical-align: middle;\n",
       "    }\n",
       "\n",
       "    .dataframe tbody tr th {\n",
       "        vertical-align: top;\n",
       "    }\n",
       "\n",
       "    .dataframe thead th {\n",
       "        text-align: right;\n",
       "    }\n",
       "</style>\n",
       "<table border=\"1\" class=\"dataframe\">\n",
       "  <thead>\n",
       "    <tr style=\"text-align: right;\">\n",
       "      <th></th>\n",
       "      <th>000 000</th>\n",
       "      <th>000 dead</th>\n",
       "      <th>000 euro</th>\n",
       "      <th>000 troop</th>\n",
       "      <th>000 year</th>\n",
       "      <th>1 2</th>\n",
       "      <th>1 3</th>\n",
       "      <th>1 4</th>\n",
       "      <th>1 5</th>\n",
       "      <th>1 500</th>\n",
       "      <th>...</th>\n",
       "      <th>year since</th>\n",
       "      <th>year u</th>\n",
       "      <th>year world</th>\n",
       "      <th>york time</th>\n",
       "      <th>young child</th>\n",
       "      <th>young girl</th>\n",
       "      <th>young men</th>\n",
       "      <th>young people</th>\n",
       "      <th>young woman</th>\n",
       "      <th>yr old</th>\n",
       "    </tr>\n",
       "  </thead>\n",
       "  <tbody>\n",
       "    <tr>\n",
       "      <th>0</th>\n",
       "      <td>0</td>\n",
       "      <td>0</td>\n",
       "      <td>0</td>\n",
       "      <td>0</td>\n",
       "      <td>0</td>\n",
       "      <td>1</td>\n",
       "      <td>0</td>\n",
       "      <td>0</td>\n",
       "      <td>0</td>\n",
       "      <td>0</td>\n",
       "      <td>...</td>\n",
       "      <td>0</td>\n",
       "      <td>0</td>\n",
       "      <td>0</td>\n",
       "      <td>0</td>\n",
       "      <td>0</td>\n",
       "      <td>0</td>\n",
       "      <td>0</td>\n",
       "      <td>0</td>\n",
       "      <td>0</td>\n",
       "      <td>0</td>\n",
       "    </tr>\n",
       "    <tr>\n",
       "      <th>1</th>\n",
       "      <td>0</td>\n",
       "      <td>0</td>\n",
       "      <td>0</td>\n",
       "      <td>0</td>\n",
       "      <td>0</td>\n",
       "      <td>0</td>\n",
       "      <td>0</td>\n",
       "      <td>0</td>\n",
       "      <td>0</td>\n",
       "      <td>0</td>\n",
       "      <td>...</td>\n",
       "      <td>0</td>\n",
       "      <td>0</td>\n",
       "      <td>0</td>\n",
       "      <td>0</td>\n",
       "      <td>0</td>\n",
       "      <td>0</td>\n",
       "      <td>0</td>\n",
       "      <td>0</td>\n",
       "      <td>0</td>\n",
       "      <td>0</td>\n",
       "    </tr>\n",
       "    <tr>\n",
       "      <th>2</th>\n",
       "      <td>0</td>\n",
       "      <td>0</td>\n",
       "      <td>0</td>\n",
       "      <td>0</td>\n",
       "      <td>0</td>\n",
       "      <td>0</td>\n",
       "      <td>0</td>\n",
       "      <td>0</td>\n",
       "      <td>0</td>\n",
       "      <td>0</td>\n",
       "      <td>...</td>\n",
       "      <td>0</td>\n",
       "      <td>0</td>\n",
       "      <td>0</td>\n",
       "      <td>0</td>\n",
       "      <td>0</td>\n",
       "      <td>0</td>\n",
       "      <td>0</td>\n",
       "      <td>0</td>\n",
       "      <td>0</td>\n",
       "      <td>0</td>\n",
       "    </tr>\n",
       "    <tr>\n",
       "      <th>3</th>\n",
       "      <td>0</td>\n",
       "      <td>0</td>\n",
       "      <td>0</td>\n",
       "      <td>0</td>\n",
       "      <td>0</td>\n",
       "      <td>0</td>\n",
       "      <td>0</td>\n",
       "      <td>0</td>\n",
       "      <td>0</td>\n",
       "      <td>0</td>\n",
       "      <td>...</td>\n",
       "      <td>0</td>\n",
       "      <td>0</td>\n",
       "      <td>0</td>\n",
       "      <td>0</td>\n",
       "      <td>0</td>\n",
       "      <td>0</td>\n",
       "      <td>0</td>\n",
       "      <td>0</td>\n",
       "      <td>0</td>\n",
       "      <td>0</td>\n",
       "    </tr>\n",
       "    <tr>\n",
       "      <th>4</th>\n",
       "      <td>0</td>\n",
       "      <td>0</td>\n",
       "      <td>0</td>\n",
       "      <td>0</td>\n",
       "      <td>0</td>\n",
       "      <td>0</td>\n",
       "      <td>0</td>\n",
       "      <td>0</td>\n",
       "      <td>0</td>\n",
       "      <td>0</td>\n",
       "      <td>...</td>\n",
       "      <td>0</td>\n",
       "      <td>0</td>\n",
       "      <td>1</td>\n",
       "      <td>0</td>\n",
       "      <td>0</td>\n",
       "      <td>0</td>\n",
       "      <td>0</td>\n",
       "      <td>0</td>\n",
       "      <td>0</td>\n",
       "      <td>0</td>\n",
       "    </tr>\n",
       "  </tbody>\n",
       "</table>\n",
       "<p>5 rows × 1219 columns</p>\n",
       "</div>"
      ],
      "text/plain": [
       "   000 000  000 dead  000 euro  000 troop  000 year  1 2  1 3  1 4  1 5  \\\n",
       "0        0         0         0          0         0    1    0    0    0   \n",
       "1        0         0         0          0         0    0    0    0    0   \n",
       "2        0         0         0          0         0    0    0    0    0   \n",
       "3        0         0         0          0         0    0    0    0    0   \n",
       "4        0         0         0          0         0    0    0    0    0   \n",
       "\n",
       "   1 500  ...  year since  year u  year world  york time  young child  \\\n",
       "0      0  ...           0       0           0          0            0   \n",
       "1      0  ...           0       0           0          0            0   \n",
       "2      0  ...           0       0           0          0            0   \n",
       "3      0  ...           0       0           0          0            0   \n",
       "4      0  ...           0       0           1          0            0   \n",
       "\n",
       "   young girl  young men  young people  young woman  yr old  \n",
       "0           0          0             0            0       0  \n",
       "1           0          0             0            0       0  \n",
       "2           0          0             0            0       0  \n",
       "3           0          0             0            0       0  \n",
       "4           0          0             0            0       0  \n",
       "\n",
       "[5 rows x 1219 columns]"
      ]
     },
     "execution_count": 9,
     "metadata": {},
     "output_type": "execute_result"
    }
   ],
   "source": [
    "feature_names = vectorizer.get_feature_names()\n",
    "print(feature_names[50:100])\n",
    "\n",
    "X_train = pd.DataFrame(features_train.todense(), columns = feature_names)\n",
    "X_test = pd.DataFrame(features_test.todense(), columns = feature_names)\n",
    "\n",
    "X_train.head()"
   ]
  },
  {
   "cell_type": "code",
   "execution_count": 10,
   "metadata": {
    "execution": {
     "iopub.execute_input": "2020-09-17T10:10:38.926848Z",
     "iopub.status.busy": "2020-09-17T10:10:38.925909Z",
     "iopub.status.idle": "2020-09-17T10:10:44.965667Z",
     "shell.execute_reply": "2020-09-17T10:10:44.964895Z"
    },
    "papermill": {
     "duration": 6.076354,
     "end_time": "2020-09-17T10:10:44.965790",
     "exception": false,
     "start_time": "2020-09-17T10:10:38.889436",
     "status": "completed"
    },
    "tags": []
   },
   "outputs": [
    {
     "data": {
      "text/html": [
       "<div>\n",
       "<style scoped>\n",
       "    .dataframe tbody tr th:only-of-type {\n",
       "        vertical-align: middle;\n",
       "    }\n",
       "\n",
       "    .dataframe tbody tr th {\n",
       "        vertical-align: top;\n",
       "    }\n",
       "\n",
       "    .dataframe thead th {\n",
       "        text-align: right;\n",
       "    }\n",
       "</style>\n",
       "<table border=\"1\" class=\"dataframe\">\n",
       "  <thead>\n",
       "    <tr style=\"text-align: right;\">\n",
       "      <th></th>\n",
       "      <th>0</th>\n",
       "      <th>1</th>\n",
       "    </tr>\n",
       "  </thead>\n",
       "  <tbody>\n",
       "    <tr>\n",
       "      <th>0</th>\n",
       "      <td>islamic state</td>\n",
       "      <td>73</td>\n",
       "    </tr>\n",
       "    <tr>\n",
       "      <th>1</th>\n",
       "      <td>world cup</td>\n",
       "      <td>60</td>\n",
       "    </tr>\n",
       "    <tr>\n",
       "      <th>2</th>\n",
       "      <td>bin laden</td>\n",
       "      <td>51</td>\n",
       "    </tr>\n",
       "    <tr>\n",
       "      <th>3</th>\n",
       "      <td>supreme court</td>\n",
       "      <td>50</td>\n",
       "    </tr>\n",
       "    <tr>\n",
       "      <th>4</th>\n",
       "      <td>right group</td>\n",
       "      <td>50</td>\n",
       "    </tr>\n",
       "  </tbody>\n",
       "</table>\n",
       "</div>"
      ],
      "text/plain": [
       "               0   1\n",
       "0  islamic state  73\n",
       "1      world cup  60\n",
       "2      bin laden  51\n",
       "3  supreme court  50\n",
       "4    right group  50"
      ]
     },
     "execution_count": 10,
     "metadata": {},
     "output_type": "execute_result"
    }
   ],
   "source": [
    "from collections import defaultdict\n",
    "\n",
    "up_unigrams = defaultdict(int)\n",
    "down_unigrams = defaultdict(int)\n",
    "\n",
    "for word in feature_names:\n",
    "    up_unigrams[word] += np.sum(X_train[train['Label']==1][word])\n",
    "    down_unigrams[word] += np.sum(X_train[train['Label']==0][word])\n",
    "        \n",
    "df_up_unigrams = pd.DataFrame(sorted(up_unigrams.items(), key=lambda x: x[1])[::-1])\n",
    "df_down_unigrams = pd.DataFrame(sorted(down_unigrams.items(), key=lambda x: x[1])[::-1])\n",
    "df_up_unigrams.head()"
   ]
  },
  {
   "cell_type": "code",
   "execution_count": 11,
   "metadata": {
    "_kg_hide-input": true,
    "execution": {
     "iopub.execute_input": "2020-09-17T10:10:45.038211Z",
     "iopub.status.busy": "2020-09-17T10:10:45.037397Z",
     "iopub.status.idle": "2020-09-17T10:10:46.832421Z",
     "shell.execute_reply": "2020-09-17T10:10:46.833032Z"
    },
    "papermill": {
     "duration": 1.838372,
     "end_time": "2020-09-17T10:10:46.833184",
     "exception": false,
     "start_time": "2020-09-17T10:10:44.994812",
     "status": "completed"
    },
    "tags": []
   },
   "outputs": [
    {
     "data": {
      "image/png": "[encoded data removed]",
      "text/plain": [
       "<Figure size 1800x5000 with 2 Axes>"
      ]
     },
     "metadata": {
      "needs_background": "light"
     },
     "output_type": "display_data"
    }
   ],
   "source": [
    "import seaborn as sns\n",
    "\n",
    "N=25\n",
    "\n",
    "fig, axes = plt.subplots(ncols=2, figsize=(18, 50), dpi=100)\n",
    "plt.tight_layout()\n",
    "\n",
    "sns.barplot(y=df_up_unigrams[0].values[:N], x=df_up_unigrams[1].values[:N], ax=axes[0], color='green')\n",
    "sns.barplot(y=df_down_unigrams[0].values[:N], x=df_down_unigrams[1].values[:N], ax=axes[1], color='red')\n",
    "\n",
    "for i in range(2):\n",
    "    axes[i].spines['right'].set_visible(False)\n",
    "    axes[i].set_xlabel('')\n",
    "    axes[i].set_ylabel('')\n",
    "    axes[i].tick_params(axis='x', labelsize=13)\n",
    "    axes[i].tick_params(axis='y', labelsize=13)\n",
    "\n",
    "axes[0].set_title(f'Top {N} most common unigrams in headlines resulting in stock up', fontsize=15)\n",
    "axes[1].set_title(f'Top {N} most common unigrams in headlines resulting in stock down', fontsize=15)\n",
    "\n",
    "plt.show()"
   ]
  },
  {
   "cell_type": "markdown",
   "metadata": {
    "papermill": {
     "duration": 0.032937,
     "end_time": "2020-09-17T10:10:46.900417",
     "exception": false,
     "start_time": "2020-09-17T10:10:46.867480",
     "status": "completed"
    },
    "tags": []
   },
   "source": [
    "Use SVC Classifier to predict testdata"
   ]
  },
  {
   "cell_type": "code",
   "execution_count": 12,
   "metadata": {
    "execution": {
     "iopub.execute_input": "2020-09-17T10:10:46.991212Z",
     "iopub.status.busy": "2020-09-17T10:10:46.990361Z",
     "iopub.status.idle": "2020-09-17T10:10:58.746687Z",
     "shell.execute_reply": "2020-09-17T10:10:58.745928Z"
    },
    "papermill": {
     "duration": 11.812893,
     "end_time": "2020-09-17T10:10:58.746808",
     "exception": false,
     "start_time": "2020-09-17T10:10:46.933915",
     "status": "completed"
    },
    "tags": []
   },
   "outputs": [
    {
     "name": "stdout",
     "output_type": "stream",
     "text": [
      "Accuracy X_train: 0.9621353196772191\n"
     ]
    },
    {
     "data": {
      "text/html": [
       "<div>\n",
       "<style scoped>\n",
       "    .dataframe tbody tr th:only-of-type {\n",
       "        vertical-align: middle;\n",
       "    }\n",
       "\n",
       "    .dataframe tbody tr th {\n",
       "        vertical-align: top;\n",
       "    }\n",
       "\n",
       "    .dataframe thead th {\n",
       "        text-align: right;\n",
       "    }\n",
       "</style>\n",
       "<table border=\"1\" class=\"dataframe\">\n",
       "  <thead>\n",
       "    <tr style=\"text-align: right;\">\n",
       "      <th>Predicted</th>\n",
       "      <th>0</th>\n",
       "      <th>1</th>\n",
       "    </tr>\n",
       "    <tr>\n",
       "      <th>Actual</th>\n",
       "      <th></th>\n",
       "      <th></th>\n",
       "    </tr>\n",
       "  </thead>\n",
       "  <tbody>\n",
       "    <tr>\n",
       "      <th>0</th>\n",
       "      <td>36</td>\n",
       "      <td>150</td>\n",
       "    </tr>\n",
       "    <tr>\n",
       "      <th>1</th>\n",
       "      <td>30</td>\n",
       "      <td>162</td>\n",
       "    </tr>\n",
       "  </tbody>\n",
       "</table>\n",
       "</div>"
      ],
      "text/plain": [
       "Predicted   0    1\n",
       "Actual            \n",
       "0          36  150\n",
       "1          30  162"
      ]
     },
     "execution_count": 12,
     "metadata": {},
     "output_type": "execute_result"
    }
   ],
   "source": [
    "clf = SVC()\n",
    "clf = clf.fit(X_train, train[\"Label\"].tolist())\n",
    "print('Accuracy X_train: ' + str(clf.score(X_train, train[\"Label\"].tolist())))\n",
    "\n",
    "predictions = clf.predict(X_test)\n",
    "\n",
    "pd.crosstab(test[\"Label\"], predictions, rownames=[\"Actual\"], colnames=[\"Predicted\"])"
   ]
  },
  {
   "cell_type": "code",
   "execution_count": 13,
   "metadata": {
    "execution": {
     "iopub.execute_input": "2020-09-17T10:10:58.822927Z",
     "iopub.status.busy": "2020-09-17T10:10:58.822102Z",
     "iopub.status.idle": "2020-09-17T10:10:58.833125Z",
     "shell.execute_reply": "2020-09-17T10:10:58.833757Z"
    },
    "papermill": {
     "duration": 0.052177,
     "end_time": "2020-09-17T10:10:58.833912",
     "exception": false,
     "start_time": "2020-09-17T10:10:58.781735",
     "status": "completed"
    },
    "tags": []
   },
   "outputs": [
    {
     "name": "stdout",
     "output_type": "stream",
     "text": [
      "              precision    recall  f1-score   support\n",
      "\n",
      "           0       0.55      0.19      0.29       186\n",
      "           1       0.52      0.84      0.64       192\n",
      "\n",
      "    accuracy                           0.52       378\n",
      "   macro avg       0.53      0.52      0.46       378\n",
      "weighted avg       0.53      0.52      0.47       378\n",
      "\n",
      "Accuracy X_test: 0.5238095238095238\n"
     ]
    }
   ],
   "source": [
    "print (classification_report(test[\"Label\"], predictions))\n",
    "print ('Accuracy X_test: ' + str(accuracy_score(test[\"Label\"], predictions)))"
   ]
  },
  {
   "cell_type": "markdown",
   "metadata": {
    "papermill": {
     "duration": 0.034722,
     "end_time": "2020-09-17T10:10:58.903718",
     "exception": false,
     "start_time": "2020-09-17T10:10:58.868996",
     "status": "completed"
    },
    "tags": []
   },
   "source": [
    "# Keras Sequential model"
   ]
  },
  {
   "cell_type": "code",
   "execution_count": 14,
   "metadata": {
    "execution": {
     "iopub.execute_input": "2020-09-17T10:10:58.995093Z",
     "iopub.status.busy": "2020-09-17T10:10:58.988690Z",
     "iopub.status.idle": "2020-09-17T10:11:09.882803Z",
     "shell.execute_reply": "2020-09-17T10:11:09.882045Z"
    },
    "papermill": {
     "duration": 10.944298,
     "end_time": "2020-09-17T10:11:09.882947",
     "exception": false,
     "start_time": "2020-09-17T10:10:58.938649",
     "status": "completed"
    },
    "tags": []
   },
   "outputs": [
    {
     "name": "stdout",
     "output_type": "stream",
     "text": [
      "Model: \"sequential\"\n",
      "_________________________________________________________________\n",
      "Layer (type)                 Output Shape              Param #   \n",
      "=================================================================\n",
      "dense (Dense)                (None, 8)                 9760      \n",
      "_________________________________________________________________\n",
      "dropout (Dropout)            (None, 8)                 0         \n",
      "_________________________________________________________________\n",
      "dense_1 (Dense)              (None, 2)                 18        \n",
      "=================================================================\n",
      "Total params: 9,778\n",
      "Trainable params: 9,778\n",
      "Non-trainable params: 0\n",
      "_________________________________________________________________\n",
      "None\n"
     ]
    },
    {
     "data": {
      "image/png": "[encoded data removed]",
      "text/plain": [
       "<Figure size 432x288 with 1 Axes>"
      ]
     },
     "metadata": {
      "needs_background": "light"
     },
     "output_type": "display_data"
    },
    {
     "data": {
      "image/png": "[encoded data removed]",
      "text/plain": [
       "<Figure size 432x288 with 1 Axes>"
      ]
     },
     "metadata": {
      "needs_background": "light"
     },
     "output_type": "display_data"
    },
    {
     "name": "stdout",
     "output_type": "stream",
     "text": [
      "12/12 [==============================] - 0s 1ms/step - loss: 0.7363 - accuracy: 0.5159\n",
      "[0.7362737655639648, 0.5158730149269104]\n"
     ]
    }
   ],
   "source": [
    "from keras.layers.core import Dense, Dropout, Activation\n",
    "from keras.optimizers import Adadelta,Adam,RMSprop\n",
    "from keras.utils import np_utils\n",
    "from keras import Sequential, optimizers, regularizers\n",
    "\n",
    "scale = np.max(X_train)\n",
    "X_train /= scale\n",
    "X_test /= scale\n",
    "\n",
    "mean = np.mean(X_train)\n",
    "X_train -= mean\n",
    "X_test -= mean\n",
    "\n",
    "num_features = X_train.shape[1]\n",
    "\n",
    "model = Sequential()\n",
    "model.add(Dense(8,input_shape=(num_features,), activation='relu', kernel_regularizer = regularizers.l2(0.1)))\n",
    "model.add(Dropout(0.5))\n",
    "#model.add(Dense(32, activation='relu', kernel_regularizer = regularizers.l2(0.001)))\n",
    "#model.add(Dropout(0.5))\n",
    "#model.add(Dense(32, activation='relu', kernel_regularizer = regularizers.l2(0.0001)))\n",
    "#model.add(Dropout(0.5))\n",
    "#model.add(Dense(32, activation='relu', kernel_regularizer = regularizers.l2(0.1)))\n",
    "#model.add(Dropout(0.5))\n",
    "#model.add(Dense(128, activation='relu', kernel_regularizer = regularizers.l2(0.001)))\n",
    "#model.add(Dropout(0.5))\n",
    "model.add(Dense(2, activation='sigmoid'))\n",
    "model.compile(loss='binary_crossentropy', optimizer='adam', metrics=['accuracy'])\n",
    "print(model.summary())\n",
    "\n",
    "Y_train = np_utils.to_categorical(train[\"Label\"], 2)\n",
    "Y_test = np_utils.to_categorical(test[\"Label\"], 2)\n",
    "\n",
    "history = model.fit(X_train, Y_train, batch_size=32, validation_data=(X_test, Y_test), epochs=100, verbose=0)\n",
    "\n",
    "# Plot training & validation accuracy values\n",
    "plt.plot(history.history['accuracy'])\n",
    "plt.plot(history.history['val_accuracy'])\n",
    "plt.title('Model accuracy')\n",
    "plt.ylabel('Accuracy')\n",
    "plt.xlabel('Epoch')\n",
    "plt.legend(['Train', 'Test'], loc='upper left')\n",
    "plt.show()\n",
    "\n",
    "# Plot training & validation loss values\n",
    "plt.plot(history.history['loss'])\n",
    "plt.plot(history.history['val_loss'])\n",
    "plt.title('Model loss')\n",
    "plt.ylabel('Loss')\n",
    "plt.xlabel('Epoch')\n",
    "plt.legend(['Train', 'Test'], loc='upper left')\n",
    "plt.show()\n",
    "    \n",
    "score = model.evaluate(X_test, Y_test)\n",
    "print(score)"
   ]
  },
  {
   "cell_type": "markdown",
   "metadata": {
    "papermill": {
     "duration": 0.039516,
     "end_time": "2020-09-17T10:11:09.962131",
     "exception": false,
     "start_time": "2020-09-17T10:11:09.922615",
     "status": "completed"
    },
    "tags": []
   },
   "source": [
    "# Use Word2Vec\n",
    "\n",
    "Use Word2Vec to find most similar words"
   ]
  },
  {
   "cell_type": "code",
   "execution_count": 15,
   "metadata": {
    "execution": {
     "iopub.execute_input": "2020-09-17T10:11:10.057063Z",
     "iopub.status.busy": "2020-09-17T10:11:10.056216Z",
     "iopub.status.idle": "2020-09-17T10:11:10.059728Z",
     "shell.execute_reply": "2020-09-17T10:11:10.058985Z"
    },
    "papermill": {
     "duration": 0.057896,
     "end_time": "2020-09-17T10:11:10.059850",
     "exception": false,
     "start_time": "2020-09-17T10:11:10.001954",
     "status": "completed"
    },
    "tags": []
   },
   "outputs": [],
   "source": [
    "class MyTokenizer():\n",
    "    def __init__(self):\n",
    "        self.tokenizer = nltk.tokenize.RegexpTokenizer(r'\\w+')\n",
    "        self.lemmatizer = nltk.stem.WordNetLemmatizer()\n",
    "        self.stop_words_en = set(nltk.corpus.stopwords.words('english'))\n",
    "        self.stop_words_germ = set(nltk.corpus.stopwords.words('german'))\n",
    "        self.stop_words = set()\n",
    "        self.stop_words.add(\"b\")\n",
    "        \n",
    "    def tokenize(self, headlines):\n",
    "        # Tokenize\n",
    "        tokens = [self.tokenizer.tokenize(article) for article in headlines]\n",
    "\n",
    "        # Lemmatizer\n",
    "        clean_tokens = []\n",
    "        for words in tokens:\n",
    "            clean_tokens.append([self.lemmatizer.lemmatize(word) for word in words])\n",
    "\n",
    "        # Stop words\n",
    "        final_tokens = []\n",
    "        for words in clean_tokens:\n",
    "            final_tokens.append([word.lower() for word in words if word.lower() not in self.stop_words_en and word.lower() not in self.stop_words_germ and word.lower() not in self.stop_words])\n",
    "            \n",
    "        return final_tokens"
   ]
  },
  {
   "cell_type": "code",
   "execution_count": 16,
   "metadata": {
    "execution": {
     "iopub.execute_input": "2020-09-17T10:11:10.149354Z",
     "iopub.status.busy": "2020-09-17T10:11:10.148527Z",
     "iopub.status.idle": "2020-09-17T10:11:37.378434Z",
     "shell.execute_reply": "2020-09-17T10:11:37.377761Z"
    },
    "papermill": {
     "duration": 27.279348,
     "end_time": "2020-09-17T10:11:37.378563",
     "exception": false,
     "start_time": "2020-09-17T10:11:10.099215",
     "status": "completed"
    },
    "tags": []
   },
   "outputs": [
    {
     "name": "stdout",
     "output_type": "stream",
     "text": [
      "Number of word vectors: 29909\n",
      "[('repeatedly', 0.9811447858810425), ('abusing', 0.9789028167724609), ('assaulted', 0.9765592813491821), ('murdering', 0.9754806756973267), ('minor', 0.9729715585708618), ('hanged', 0.9704235792160034), ('falsely', 0.9693689346313477), ('father', 0.9692800641059875), ('attempted', 0.9684377908706665), ('beheaded', 0.9683940410614014)]\n"
     ]
    }
   ],
   "source": [
    "from gensim.models import Word2Vec\n",
    "\n",
    "tokenizer = MyTokenizer()\n",
    "\n",
    "headlines_train = train[\"headlines\"]\n",
    "headlines_test= test[\"headlines\"]\n",
    "\n",
    "tokens_train = tokenizer.tokenize(headlines_train)\n",
    "tokens_test = tokenizer.tokenize(headlines_test)\n",
    "\n",
    "model = Word2Vec(tokens_train, min_count=1,size= 50,workers=3, window =3, sg = 1)\n",
    "\n",
    "word_vectors = model.wv\n",
    "print(\"Number of word vectors: {}\".format(len(word_vectors.vocab)))\n",
    "\n",
    "print(model.wv.most_similar('husband'))"
   ]
  },
  {
   "cell_type": "markdown",
   "metadata": {
    "papermill": {
     "duration": 0.039886,
     "end_time": "2020-09-17T10:11:37.459448",
     "exception": false,
     "start_time": "2020-09-17T10:11:37.419562",
     "status": "completed"
    },
    "tags": []
   },
   "source": [
    "# Word embedding"
   ]
  },
  {
   "cell_type": "code",
   "execution_count": 17,
   "metadata": {
    "execution": {
     "iopub.execute_input": "2020-09-17T10:11:37.568442Z",
     "iopub.status.busy": "2020-09-17T10:11:37.558725Z",
     "iopub.status.idle": "2020-09-17T10:19:29.087027Z",
     "shell.execute_reply": "2020-09-17T10:19:29.086418Z"
    },
    "papermill": {
     "duration": 471.587861,
     "end_time": "2020-09-17T10:19:29.087154",
     "exception": false,
     "start_time": "2020-09-17T10:11:37.499293",
     "status": "completed"
    },
    "tags": []
   },
   "outputs": [
    {
     "name": "stdout",
     "output_type": "stream",
     "text": [
      "Number of words: 20000\n",
      "max_length: 200\n",
      "Model: \"sequential_1\"\n",
      "_________________________________________________________________\n",
      "Layer (type)                 Output Shape              Param #   \n",
      "=================================================================\n",
      "embedding (Embedding)        (None, 200, 16)           320000    \n",
      "_________________________________________________________________\n",
      "lstm (LSTM)                  (None, 8)                 800       \n",
      "_________________________________________________________________\n",
      "dropout_1 (Dropout)          (None, 8)                 0         \n",
      "_________________________________________________________________\n",
      "dense_2 (Dense)              (None, 16)                144       \n",
      "_________________________________________________________________\n",
      "dense_3 (Dense)              (None, 2)                 34        \n",
      "=================================================================\n",
      "Total params: 320,978\n",
      "Trainable params: 320,978\n",
      "Non-trainable params: 0\n",
      "_________________________________________________________________\n",
      "None\n"
     ]
    },
    {
     "data": {
      "image/png": "[encoded data removed]",
      "text/plain": [
       "<Figure size 432x288 with 1 Axes>"
      ]
     },
     "metadata": {
      "needs_background": "light"
     },
     "output_type": "display_data"
    },
    {
     "data": {
      "image/png": "[encoded data removed]",
      "text/plain": [
       "<Figure size 432x288 with 1 Axes>"
      ]
     },
     "metadata": {
      "needs_background": "light"
     },
     "output_type": "display_data"
    },
    {
     "name": "stdout",
     "output_type": "stream",
     "text": [
      "12/12 [==============================] - 0s 21ms/step - loss: 3.3165 - accuracy: 0.5159\n",
      "Testing Accuracy is 51.58730149269104 \n"
     ]
    }
   ],
   "source": [
    "from tensorflow.python.keras.preprocessing.text import Tokenizer\n",
    "from keras.layers import Flatten, Dense, LSTM, GRU, SpatialDropout1D, Bidirectional, concatenate\n",
    "from keras.layers.embeddings import Embedding\n",
    "from keras.preprocessing.sequence import pad_sequences\n",
    "from keras.optimizers import SGD\n",
    "\n",
    "my_tokenizer = MyTokenizer()\n",
    "\n",
    "headlines_train = train[\"headlines\"]\n",
    "headlines_test= test[\"headlines\"]\n",
    "tokens_train = my_tokenizer.tokenize(headlines_train)\n",
    "tokens_test = my_tokenizer.tokenize(headlines_test)\n",
    "\n",
    "tokenizer = Tokenizer(num_words=20000)\n",
    "tokenizer.fit_on_texts(train[\"headlines\"])\n",
    "        \n",
    "vocab_size = 20000 #len(tokenizer.word_index) + 1\n",
    "print('Number of words: ' + str(vocab_size))\n",
    "\n",
    "X_train_tokens = tokenizer.texts_to_sequences(tokens_train)\n",
    "X_test_tokens = tokenizer.texts_to_sequences(tokens_test)\n",
    "\n",
    "max_length = 0\n",
    "for words in X_train_tokens:\n",
    "    if len(words)>max_length:\n",
    "        max_length = len(words)\n",
    "max_length = 200\n",
    "print('max_length: ' + str(max_length))\n",
    "\n",
    "X_train_pad = pad_sequences(X_train_tokens, maxlen=max_length, padding='post')\n",
    "X_test_pad = pad_sequences(X_test_tokens, maxlen=max_length, padding='post')\n",
    "\n",
    "y_train = train['Label']\n",
    "y_test = test['Label']\n",
    "Y_train = np_utils.to_categorical(y_train, 2)\n",
    "Y_test = np_utils.to_categorical(y_test, 2)\n",
    "\n",
    "model = Sequential()\n",
    "model.add(Embedding(vocab_size, 16, input_length=max_length))\n",
    "#model.add(SpatialDropout1D(0.5))\n",
    "model.add(LSTM(8, dropout=0.2, recurrent_dropout=0.2)) \n",
    "#model.add(Bidirectional(LSTM(units=64, recurrent_dropout=0.5)))\n",
    "#model.add(Flatten())\n",
    "#model.add(Dense(32, activation='relu', kernel_regularizer = regularizers.l2(0.001)))\n",
    "model.add(Dropout(0.5))\n",
    "model.add(Dense(16, activation='relu', kernel_regularizer = regularizers.l2(0.01)))\n",
    "#model.add(Dropout(0.5))\n",
    "#model.add(Dense(64, activation='relu', kernel_regularizer = regularizers.l2(0.001)))\n",
    "#model.add(Dropout(0.5))\n",
    "#model.add(GRU(units=32, dropout=0.5, recurrent_dropout=0.5))\n",
    "#model.add(Dropout(0.5))\n",
    "model.add(Dense(2, activation='softmax'))\n",
    "\n",
    "model.compile(optimizer='adam', loss='binary_crossentropy', metrics=['accuracy'])\n",
    "\n",
    "print(model.summary())\n",
    "\n",
    "history = model.fit(X_train_pad, Y_train, batch_size=32, epochs=50, verbose=0, validation_data=(X_test_pad, Y_test))\n",
    "\n",
    "# Plot training & validation accuracy values\n",
    "plt.plot(history.history['accuracy'])\n",
    "plt.plot(history.history['val_accuracy'])\n",
    "plt.title('Model accuracy')\n",
    "plt.ylabel('Accuracy')\n",
    "plt.xlabel('Epoch')\n",
    "plt.legend(['Train', 'Test'], loc='upper left')\n",
    "plt.show()\n",
    "\n",
    "# Plot training & validation loss values\n",
    "plt.plot(history.history['loss'])\n",
    "plt.plot(history.history['val_loss'])\n",
    "plt.title('Model loss')\n",
    "plt.ylabel('Loss')\n",
    "plt.xlabel('Epoch')\n",
    "plt.legend(['Train', 'Test'], loc='upper left')\n",
    "plt.show()\n",
    "\n",
    "loss, accuracy = model.evaluate(X_test_pad,Y_test)\n",
    "print('Testing Accuracy is {} '.format(accuracy*100))"
   ]
  },
  {
   "cell_type": "markdown",
   "metadata": {
    "papermill": {
     "duration": 0.046171,
     "end_time": "2020-09-17T10:19:29.179292",
     "exception": false,
     "start_time": "2020-09-17T10:19:29.133121",
     "status": "completed"
    },
    "tags": []
   },
   "source": [
    "The accuracy is not so good. Only slightly better than guessing."
   ]
  }
 ],
 "metadata": {
  "kernelspec": {
   "display_name": "Python 3",
   "language": "python",
   "name": "python3"
  },
  "language_info": {
   "codemirror_mode": {
    "name": "ipython",
    "version": 3
   },
   "file_extension": ".py",
   "mimetype": "text/x-python",
   "name": "python",
   "nbconvert_exporter": "python",
   "pygments_lexer": "ipython3",
   "version": "3.7.6"
  },
  "papermill": {
   "duration": 555.020862,
   "end_time": "2020-09-17T10:19:29.333275",
   "environment_variables": {},
   "exception": null,
   "input_path": "__notebook__.ipynb",
   "output_path": "__notebook__.ipynb",
   "parameters": {},
   "start_time": "2020-09-17T10:10:14.312413",
   "version": "2.1.0"
  }
 },
 "nbformat": 4,
 "nbformat_minor": 4
}
